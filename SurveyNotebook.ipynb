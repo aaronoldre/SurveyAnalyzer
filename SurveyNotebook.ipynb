{
 "cells": [
  {
   "cell_type": "code",
   "execution_count": 31,
   "metadata": {},
   "outputs": [],
   "source": [
    "import matplotlib.pyplot as plt\n",
    "import pandas as pd\n",
    "import seaborn as sns"
   ]
  },
  {
   "cell_type": "code",
   "execution_count": 288,
   "metadata": {},
   "outputs": [],
   "source": [
    "class Survey(object):\n",
    "    def __init__(self, df,name):\n",
    "        self.df = df\n",
    "        self.name = name\n",
    "        self.themes = {\n",
    "            'RdBu': ['#ca0020', '#f4a582', '#f7f7f7', '#0571b0', '#92c5de', '#f7f7f7'],\n",
    "            'BrBG': ['#a6611a', '#dfc27d', '#f5f5f5', '#018571', '#80cdc1', '#f5f5f5'],\n",
    "            'PiYG': ['#d01c8b', '#f1b6da', '#f7f7f7', '#4dac26', '#b8e186', '#f7f7f7'],\n",
    "            'Spectral': ['#d7191c', '#fdae61', '#ffffbf', '#2b83ba', '#abdda4', '#ffffbf']\n",
    "            }\n",
    "        self.colors = self.themes['RdBu']\n",
    "        \n",
    "    def set_theme(self, colors = None):\n",
    "        \"\"\"\n",
    "        Changes the theme of the plots. If no color is selected it prints the theme choices to the screen\n",
    "        \"\"\"\n",
    "        if colors == None:\n",
    "            print (f'Choose from one of the following: ')\n",
    "            for i in self.themes.keys():\n",
    "                print('\\t' + i)\n",
    "        else:\n",
    "            self.colors = self.themes[colors]\n",
    "        \n",
    "    def list_questions(self):\n",
    "        \"\"\"\n",
    "        Print out the survey questions for review\n",
    "        \"\"\"\n",
    "        self.questions = list(self.df.columns)\n",
    "        for i, question in enumerate(self.questions):\n",
    "            print(f'{i+1} {question}\\n')\n",
    "            \n",
    "    def plot_response(self, question):\n",
    "        \"\"\"\n",
    "        produces a count plot chart of the responses to the \n",
    "        specified question\n",
    "        \"\"\"\n",
    "        self.question = self.questions[question - 1]\n",
    "        ax = sns.countplot(\n",
    "                data = self.df, \n",
    "                y = self.question, \n",
    "                color = self.colors[3],\n",
    "                order = self.df[self.question].value_counts().index\n",
    "                            )\n",
    "        ax.set_title(self.name)\n",
    "        ax.set_ylabel(self.question)\n",
    "        ax.set_xlabel('# of Responses')\n",
    "        plt.show()\n",
    "\n",
    "    def diverging_bar(self, question, positive_responses, negative_responses, neutral_responses):\n",
    "        \"\"\"\n",
    "        creates a diverging bar chart with percentage of responses diverging away from the neutral response\n",
    "        \n",
    "        positive = [Always, Often]\n",
    "        negative = [Never, Rarely]\n",
    "        neutral = [Sometimes]\n",
    "        \"\"\"\n",
    "        self.pos = positive_responses\n",
    "        self.neg = negative_responses\n",
    "        self.neut = neutral_responses\n",
    "        self.question = question\n",
    "        \n",
    "        self.df['Count'] = 1\n",
    "        self.__df = self.df[[self.question, 'Count']].groupby(self.question).count().reset_index()\n",
    "        self.__df['pct'] = self.__df['Count']/len(self.df)*100\n",
    "        self.__df = self.__df.set_index(self.question)\n",
    "        \n",
    "        seg_markers = [-1*(self.__df['pct'][self.neg[0]] + self.__df['pct'][self.neg[1]] + self.__df['pct'][self.neut[0]]/2),\n",
    "            -1*(self.__df['pct'][self.neg[1]] + self.__df['pct'][self.neut[0]]/2),\n",
    "            -1*(self.__df['pct'][self.neut[0]]/2),\n",
    "            self.__df['pct'][self.pos[1]] + self.__df['pct'][self.pos[0]] + self.__df['pct'][self.neut[0]]/2,\n",
    "            + self.__df['pct'][self.pos[0]] + self.__df['pct'][self.neut[0]]/2,\n",
    "            self.__df['pct'][self.neut[0]]/2]\n",
    "\n",
    "        \n",
    "        fig, ax = plt.subplots()\n",
    "        fig.set_size_inches(9,3)\n",
    "        ax.barh([1,1,1,1,1,1], seg_markers, \n",
    "                color = self.colors)\n",
    "        ax.set_xlabel('Percent of Responses')\n",
    "        ax.set_ylabel('')\n",
    "        ax.yaxis.set_ticks([])\n",
    "\n",
    "    \n",
    "    def plot_matrix_divering_bar(self):\n",
    "        \"\"\"\n",
    "        creates a diverging bar chart with percentage of responses to multiple questions and orders questions \n",
    "        most positive to most negative\n",
    "        \n",
    "        positive = [Always, Often]\n",
    "        negative = [Never, Rarely]\n",
    "        neutral = [Sometimes]\n",
    "        \"\"\"\n",
    "        pass\n",
    "    \n",
    "    def analayze_results(self):\n",
    "        \"\"\"\n",
    "        give summary of results\n",
    "        \"\"\"\n",
    "        pass\n",
    "    \n",
    "    def plot_all_responses(self):\n",
    "        \"\"\"\n",
    "        plot all the responses\n",
    "        \"\"\"\n",
    "        for i, question in enumerate(self.questions):\n",
    "            print('\\n')\n",
    "            self.plot_response(i)\n",
    "    "
   ]
  },
  {
   "cell_type": "code",
   "execution_count": 289,
   "metadata": {},
   "outputs": [],
   "source": [
    "mySurvey = Survey(pd.read_excel('~/Downloads/Red Rocks 2021.xlsx'), 'Red Rocks')"
   ]
  },
  {
   "cell_type": "code",
   "execution_count": 290,
   "metadata": {},
   "outputs": [
    {
     "name": "stdout",
     "output_type": "stream",
     "text": [
      "Choose from one of the following: \n",
      "\tRdBu\n",
      "\tBrBG\n",
      "\tPiYG\n",
      "\tSpectral\n"
     ]
    }
   ],
   "source": [
    "mySurvey.set_theme()"
   ]
  },
  {
   "cell_type": "code",
   "execution_count": 291,
   "metadata": {},
   "outputs": [
    {
     "name": "stdout",
     "output_type": "stream",
     "text": [
      "1 Route\n",
      "\n",
      "2 Grade\n",
      "\n",
      "3 Wall\n",
      "\n",
      "4 Area\n",
      "\n"
     ]
    }
   ],
   "source": [
    "mySurvey.list_questions()"
   ]
  },
  {
   "cell_type": "code",
   "execution_count": 292,
   "metadata": {},
   "outputs": [
    {
     "data": {
      "image/png": "[encoded data removed]",
      "text/plain": [
       "<Figure size 432x288 with 1 Axes>"
      ]
     },
     "metadata": {
      "needs_background": "light"
     },
     "output_type": "display_data"
    }
   ],
   "source": [
    "mySurvey.plot_response(2)"
   ]
  },
  {
   "cell_type": "code",
   "execution_count": 284,
   "metadata": {},
   "outputs": [
    {
     "data": {
      "image/png": "[encoded data removed]",
      "text/plain": [
       "<Figure size 648x216 with 1 Axes>"
      ]
     },
     "metadata": {
      "needs_background": "light"
     },
     "output_type": "display_data"
    }
   ],
   "source": [
    "positive = ['Black Velvet Canyon', 'Second Pullout']\n",
    "negative = ['Willow Springs', 'Calico Basin']\n",
    "neutral = ['Sandstone Quarry']\n",
    "\n",
    "mySurvey.diverging_bar('Area', negative, positive, neutral)"
   ]
  },
  {
   "cell_type": "code",
   "execution_count": 285,
   "metadata": {},
   "outputs": [],
   "source": [
    "mySurvey.set_theme('PiYG')"
   ]
  },
  {
   "cell_type": "code",
   "execution_count": 286,
   "metadata": {},
   "outputs": [
    {
     "data": {
      "image/png": "[encoded data removed]",
      "text/plain": [
       "<Figure size 648x216 with 1 Axes>"
      ]
     },
     "metadata": {
      "needs_background": "light"
     },
     "output_type": "display_data"
    }
   ],
   "source": [
    "mySurvey.diverging_bar('Area', positive, negative, neutral)"
   ]
  },
  {
   "cell_type": "code",
   "execution_count": 287,
   "metadata": {},
   "outputs": [
    {
     "name": "stdout",
     "output_type": "stream",
     "text": [
      "\n",
      "\n"
     ]
    },
    {
     "data": {
      "image/png": "[encoded data removed]",
      "text/plain": [
       "<Figure size 432x288 with 1 Axes>"
      ]
     },
     "metadata": {
      "needs_background": "light"
     },
     "output_type": "display_data"
    },
    {
     "name": "stdout",
     "output_type": "stream",
     "text": [
      "\n",
      "\n"
     ]
    },
    {
     "data": {
      "image/png": "[encoded data removed]",
      "text/plain": [
       "<Figure size 432x288 with 1 Axes>"
      ]
     },
     "metadata": {
      "needs_background": "light"
     },
     "output_type": "display_data"
    },
    {
     "name": "stdout",
     "output_type": "stream",
     "text": [
      "\n",
      "\n"
     ]
    },
    {
     "data": {
      "image/png": "[encoded data removed]",
      "text/plain": [
       "<Figure size 432x288 with 1 Axes>"
      ]
     },
     "metadata": {
      "needs_background": "light"
     },
     "output_type": "display_data"
    },
    {
     "name": "stdout",
     "output_type": "stream",
     "text": [
      "\n",
      "\n"
     ]
    },
    {
     "data": {
      "image/png": "[encoded data removed]",
      "text/plain": [
       "<Figure size 432x288 with 1 Axes>"
      ]
     },
     "metadata": {
      "needs_background": "light"
     },
     "output_type": "display_data"
    }
   ],
   "source": [
    "mySurvey.plot_all_responses()"
   ]
  },
  {
   "cell_type": "code",
   "execution_count": 78,
   "metadata": {},
   "outputs": [],
   "source": [
    "df = pd.read_excel('~/Downloads/Red Rocks 2021.xlsx')"
   ]
  },
  {
   "cell_type": "code",
   "execution_count": null,
   "metadata": {},
   "outputs": [],
   "source": []
  }
 ],
 "metadata": {
  "kernelspec": {
   "display_name": "Python 3",
   "language": "python",
   "name": "python3"
  },
  "language_info": {
   "codemirror_mode": {
    "name": "ipython",
    "version": 3
   },
   "file_extension": ".py",
   "mimetype": "text/x-python",
   "name": "python",
   "nbconvert_exporter": "python",
   "pygments_lexer": "ipython3",
   "version": "3.7.4"
  }
 },
 "nbformat": 4,
 "nbformat_minor": 2
}
